{
 "cells": [
  {
   "attachments": {},
   "cell_type": "markdown",
   "metadata": {},
   "source": [
    "## Makemore pt.2 - building a language model to generate English names\n",
    "This notebook uses MLP (multi-layer perceptrons). It implements the architecture from [2003 paper \"A Neural Probabilistic Language Model\"](https://www.jmlr.org/papers/volume3/bengio03a/bengio03a.pdf)\n",
    "\n",
    "![img](./network_architecture.png)\n",
    "\n",
    "What we want to achieve is to feed more context into the model - so that it's able to do the predictions on more than just a previous character.\n",
    "The problem with previous statistical \"counting\" approach is that it quickly explodes - e.g. if we have 27 characters, context of 3 previous characters becomes 27**3. For increasing context, number of paramters grows exponentially. In the previous example each of the neurons was fully connected to the input, so each neuron would have 27\\*\\*3 weights.\n",
    "\n",
    "The idea in this paper is to introduce a **embedding space** - association of characters into N dimensional feature vector space. This way we can \"cluster\" character sequences (or - words in the orignal paper) together."
   ]
  },
  {
   "cell_type": "code",
   "execution_count": 1,
   "metadata": {},
   "outputs": [],
   "source": [
    "%reload_ext autoreload\n",
    "%autoreload 2\n",
    "import numpy as np\n",
    "import matplotlib.pyplot as plt\n",
    "import torch\n",
    "import torch.nn.functional as F"
   ]
  },
  {
   "cell_type": "code",
   "execution_count": 2,
   "metadata": {},
   "outputs": [
    {
     "name": "stdout",
     "output_type": "stream",
     "text": [
      "32033 words in the training set\n"
     ]
    }
   ],
   "source": [
    "words = open('./names.txt').read().splitlines()\n",
    "print(f'{len(words)} words in the training set')"
   ]
  },
  {
   "cell_type": "code",
   "execution_count": 3,
   "metadata": {},
   "outputs": [],
   "source": [
    "# build mappings from chars to integers\n",
    "space = set([char for word in words for char in list(word)])\n",
    "stoi = {ch : i+1 for i, ch in enumerate(sorted(space))}\n",
    "stoi['.'] = 0\n",
    "itos = {i : ch for ch, i in stoi.items()}"
   ]
  },
  {
   "cell_type": "code",
   "execution_count": 4,
   "metadata": {},
   "outputs": [
    {
     "name": "stdout",
     "output_type": "stream",
     "text": [
      "word: emma\n",
      "... -> e\n",
      "..e -> m\n",
      ".em -> m\n",
      "emm -> a\n",
      "mma -> .\n",
      "word: olivia\n",
      "... -> o\n",
      "..o -> l\n",
      ".ol -> i\n",
      "oli -> v\n",
      "liv -> i\n",
      "ivi -> a\n",
      "via -> .\n",
      "word: ava\n",
      "... -> a\n",
      "..a -> v\n",
      ".av -> a\n",
      "ava -> .\n",
      "x and y shapes: torch.Size([16, 3]), torch.Size([16])\n"
     ]
    }
   ],
   "source": [
    "# build the dataset\n",
    "def bulid_dataset(input, context_size=3, debug=False):\n",
    "    x, y = [], []\n",
    "    for word in input:\n",
    "        if debug: print(f'word: {word}')\n",
    "        context = [stoi['.']] * context_size\n",
    "        for ch in list(word) + ['.']:\n",
    "            idx = stoi[ch]\n",
    "            x.append(context)\n",
    "            y.append(idx)\n",
    "            if debug: print(''.join([itos[c] for c in context]) + \" -> \" + itos[idx])\n",
    "            context = context[1:] + [idx]\n",
    "    x = torch.tensor(x)\n",
    "    y = torch.tensor(y)\n",
    "    return x, y\n",
    "\n",
    "context_size = 3 # context length - how many characters the model will take to predict the next one\n",
    "x, y = bulid_dataset(words[:3], context_size=context_size, debug=True)\n",
    "print(f'x and y shapes: {x.shape}, {y.shape}')"
   ]
  },
  {
   "cell_type": "code",
   "execution_count": 5,
   "metadata": {},
   "outputs": [
    {
     "name": "stdout",
     "output_type": "stream",
     "text": [
      "C[5] is tensor([-2.0308, -0.0208]), one-hot encoded \"5\" multiplied with C is also tensor([-2.0308, -0.0208])\n"
     ]
    }
   ],
   "source": [
    "# Embedding matrix - 2D space for 27 characters\n",
    "C = torch.randn((27, 2))\n",
    "\n",
    "# Those two are equivalent. This means that C lookup (embedding) might as well be a network layer - encoder in \n",
    "# the diagram from the research paper.\n",
    "mul = F.one_hot(torch.tensor(5), num_classes=27).float() @ C\n",
    "print(f'C[5] is {C[5]}, one-hot encoded \"5\" multiplied with C is also {mul}')"
   ]
  },
  {
   "cell_type": "code",
   "execution_count": 6,
   "metadata": {},
   "outputs": [
    {
     "name": "stdout",
     "output_type": "stream",
     "text": [
      "C.shape: torch.Size([27, 2]), x.shape: torch.Size([16, 3])\n",
      "x[0]=tensor([ 5, 13, 13]), C[x][0]=tensor([[-2.0308, -0.0208],\n",
      "        [-0.3036,  0.0603],\n",
      "        [-0.3036,  0.0603]])\n",
      "Resulting R.shape:torch.Size([16, 3, 2])\n"
     ]
    },
    {
     "data": {
      "text/plain": [
       "torch.Size([16, 3, 2])"
      ]
     },
     "execution_count": 6,
     "metadata": {},
     "output_type": "execute_result"
    }
   ],
   "source": [
    "print(f'C.shape: {C.shape}, x.shape: {x.shape}')\n",
    "emb = C[x] # Pytorch magic - this expression interprets each item of x as row address in C. So if x[0][1] == 2 ('b'), then result R[0][1] = C[2]\n",
    "print(f'x[0]={x[3]}, C[x][0]={C[x][3]}')\n",
    "print(f'Resulting R.shape:{emb.shape}')\n",
    "\n",
    "emb.shape # Resulting embedding for each of 3 chars of context in each x example has 2D vector value from C table."
   ]
  },
  {
   "cell_type": "code",
   "execution_count": 7,
   "metadata": {},
   "outputs": [],
   "source": [
    "# Hidden layer\n",
    "W1 = torch.randn((6, 100)) # 3x2 inputs (3 context chars each in 2D embeddings)\n",
    "b1 = torch.randn(100)"
   ]
  },
  {
   "cell_type": "code",
   "execution_count": 8,
   "metadata": {},
   "outputs": [
    {
     "name": "stdout",
     "output_type": "stream",
     "text": [
      "embeddings.shape=torch.Size([16, 6])\n"
     ]
    }
   ],
   "source": [
    "# Our neurons have 6 inputs each but our training set is N examples x 3 chars of context x 2 vector embedding values. We need to reshape\n",
    "# it so that it's a list of N x 6 examples.\n",
    "\n",
    "# Inefficient way\n",
    "embeddings = torch.cat(torch.unbind(emb, 1), 1)\n",
    "\n",
    "# Efficient way\n",
    "embeddings = emb.view(-1, 6)\n",
    "print(f'{embeddings.shape=}')\n"
   ]
  },
  {
   "attachments": {},
   "cell_type": "markdown",
   "metadata": {},
   "source": [
    "## Broadcasting rules in Pytroch\n",
    "1. Align shapes by padding lower-dimensional tensor with ones.\n",
    "2. Dimensions are compatible if their sizes are equal or one of them is 1.\n",
    "3. Output shape is determined by taking the maximum size along each dimension.\n",
    "4. Tensors with size 1 in a dimension are expanded to match the corresponding size in the other tensor."
   ]
  },
  {
   "cell_type": "code",
   "execution_count": 9,
   "metadata": {},
   "outputs": [
    {
     "name": "stdout",
     "output_type": "stream",
     "text": [
      "A.shape=torch.Size([2, 3]),B.shape=torch.Size([3])\n"
     ]
    },
    {
     "data": {
      "text/plain": [
       "tensor([[2, 4, 4],\n",
       "        [5, 7, 7]])"
      ]
     },
     "execution_count": 9,
     "metadata": {},
     "output_type": "execute_result"
    }
   ],
   "source": [
    "A = torch.tensor([[1,2,3],[4,5,6]])\n",
    "B = torch.tensor([1,2,1])\n",
    "# Shapes: 2x3, 3\n",
    "# 1) Aligning the dimensions gives 2x3 and 1x3\n",
    "# 2) Check\n",
    "# 3) Out: 2x3\n",
    "# 4) The 1,2,1 row gets copied over vertically and added element-wise\n",
    "print(f'{A.shape=},{B.shape=}')\n",
    "A + B"
   ]
  },
  {
   "cell_type": "code",
   "execution_count": 32,
   "metadata": {},
   "outputs": [],
   "source": [
    "g = torch.Generator().manual_seed(2147483647)\n",
    "# Putting it all back together\n",
    "x, y = bulid_dataset(words, context_size)\n",
    "# Parameters\n",
    "C = torch.randn((27, 2), generator=g) # 2D character embeddings\n",
    "W1 = torch.randn((context_size*2, 100), generator=g) # Hidden layer - 100 neurons with 6 inputs (3 chars x 2 emb vector values), for block_size = 3\n",
    "b1 = torch.randn(100, generator=g)\n",
    "W2 = torch.randn((100, 27), generator=g) # Fully connected out layer - 100 inputs, 27 neurons\n",
    "b2 = torch.randn(27, generator=g)\n",
    "paramters = [C, W1, b1, W2, b2]\n",
    "for p in paramters: \n",
    "    p.requires_grad = True"
   ]
  },
  {
   "cell_type": "code",
   "execution_count": 28,
   "metadata": {},
   "outputs": [
    {
     "name": "stdout",
     "output_type": "stream",
     "text": [
      "loss=19.505226135253906\n",
      "loss=17.084484100341797\n",
      "loss=15.776531219482422\n",
      "loss=14.833340644836426\n",
      "loss=14.002605438232422\n",
      "loss=13.253264427185059\n",
      "loss=12.57991886138916\n",
      "loss=11.983102798461914\n",
      "loss=11.47049331665039\n",
      "loss=11.05185604095459\n"
     ]
    }
   ],
   "source": [
    "def train(iters=10):\n",
    "    for _ in range(iters):\n",
    "        # Foward through embeddings lookup\n",
    "        embeddings = C[x] # N x block_size x 2\n",
    "        # unbind the 2nd dimension of the embedding matrix - list 2D vectors coords one by one in each input example\n",
    "        inputs = embeddings.view(-1, 2*context_size) \n",
    "\n",
    "        # Foward through the first layer\n",
    "        # Multiplying N x 6 (3 characters in 2D embeddings) matrix with 6 x 100 NN layer (100 neurons with 6 inputs each)\n",
    "\n",
    "        hidden_layer = torch.tanh(inputs @ W1 + b1)\n",
    "        # Forward through the second layer\n",
    "        out_layer = hidden_layer @ W2 + b2\n",
    "\n",
    "        # Calculate the loss\n",
    "        # This under the hood does softmax on layer output and calculated negative log likelihood for the predicted prob of actual output from the training set\n",
    "        # It's better to use it - safer numerically, optimized for forward and backward etc.\n",
    "        loss = F.cross_entropy(out_layer, y)\n",
    "        print(f'loss={loss.item()}')\n",
    "\n",
    "        # Backward\n",
    "        for p in paramters: \n",
    "            p.grad = None\n",
    "        loss.backward()\n",
    "\n",
    "        # Update\n",
    "        step = -0.1\n",
    "        for p in paramters:\n",
    "            p.data += torch.tensor(step) * p.grad\n",
    "\n",
    "train(10)"
   ]
  },
  {
   "attachments": {},
   "cell_type": "markdown",
   "metadata": {},
   "source": [
    "## Cross entropy\n",
    "Cross-entropy is a measure of the difference between two probability distributions. It's often used as a loss function to train classifiers by minimizing the divergence between predicted probabilities and true class labels.\n",
    "Under the hood, it is a softmax (interpret the output of a NN as probability distribution) + NLL (get a loss function on the probability assigned to the actual label of the data)"
   ]
  },
  {
   "cell_type": "code",
   "execution_count": 12,
   "metadata": {},
   "outputs": [],
   "source": [
    "# Those lines are equivalent to F.cross_entropy()\n",
    "# Softmax\n",
    "out_layer = torch.randn(x.shape[0], 27)\n",
    "exp = out_layer.exp()\n",
    "prob = exp / exp.sum(1, keepdim=True)\n",
    "y_probs = prob[np.arange(x.shape[0]), y]\n",
    "# NLL\n",
    "loss_manual = -y_probs.log().mean()\n"
   ]
  },
  {
   "attachments": {},
   "cell_type": "markdown",
   "metadata": {},
   "source": [
    "## Tweaking the training\n",
    "### Technique \\#1 - minibatching\n",
    "Instead of running the forward/backward on all the trainig set, just sample it."
   ]
  },
  {
   "cell_type": "code",
   "execution_count": 33,
   "metadata": {},
   "outputs": [
    {
     "name": "stdout",
     "output_type": "stream",
     "text": [
      "1/10000, loss=19.77227210998535\n",
      "1000/10000, loss=3.724982976913452\n",
      "2000/10000, loss=3.5079426765441895\n",
      "3000/10000, loss=2.533734083175659\n",
      "4000/10000, loss=2.5296764373779297\n",
      "5000/10000, loss=2.726818561553955\n",
      "6000/10000, loss=2.743476152420044\n",
      "7000/10000, loss=2.9574029445648193\n",
      "8000/10000, loss=3.147177219390869\n",
      "9000/10000, loss=3.1089730262756348\n",
      "10000/10000, loss=2.11515212059021\n"
     ]
    }
   ],
   "source": [
    "def train_minibatches(iters=10):\n",
    "    for i in range(iters):\n",
    "        # forward\n",
    "        batch_idx = torch.randint(0, x.shape[0], (32,), generator=g) # randomly select 32 elements from training set\n",
    "        x_batch = x[batch_idx]\n",
    "        embeddings = C[x_batch]\n",
    "        hidden_layer = torch.tanh(embeddings.view(-1,6) @ W1 + b1)\n",
    "        out_layer = hidden_layer @ W2 + b2\n",
    "        # loss\n",
    "        loss = F.cross_entropy(out_layer, y[batch_idx])\n",
    "        if i == 0 or (i+1) % 1000 == 0: print(f'{i+1}/{iters}, loss={loss.item()}')\n",
    "        # backward\n",
    "        for p in paramters:\n",
    "            p.grad = None\n",
    "        loss.backward()\n",
    "        for p in paramters:\n",
    "            p.data += torch.tensor(-0.01)*p.grad\n",
    "\n",
    "train_minibatches(10000)\n"
   ]
  },
  {
   "attachments": {},
   "cell_type": "markdown",
   "metadata": {},
   "source": [
    "### Technique \\#2 - finding the right loss\n",
    "\n",
    "Trying out different losses and visualizing the plot."
   ]
  },
  {
   "cell_type": "code",
   "execution_count": 25,
   "metadata": {},
   "outputs": [
    {
     "name": "stderr",
     "output_type": "stream",
     "text": [
      "C:\\Users\\oskip\\AppData\\Local\\Temp\\ipykernel_12752\\3847019492.py:25: UserWarning: To copy construct from a tensor, it is recommended to use sourceTensor.clone().detach() or sourceTensor.clone().detach().requires_grad_(True), rather than torch.tensor(sourceTensor).\n",
      "  p.data += torch.tensor(-learning_rates[i])*p.grad\n"
     ]
    },
    {
     "name": "stdout",
     "output_type": "stream",
     "text": [
      "loss=3.2548441886901855\n"
     ]
    }
   ],
   "source": [
    "lr_i=[]\n",
    "loss_i=[]\n",
    "def train_minibatches_varying_loss(iters=10):\n",
    "    # Candidate learning rates\n",
    "    exponents = torch.linspace(-3, 0, iters)\n",
    "    learning_rates = 10**exponents\n",
    "\n",
    "    for i in range(iters):\n",
    "        # forward\n",
    "        batch_idx = torch.randint(0, x.shape[0], (32,), generator=g) # randomly select 32 elements from training set\n",
    "        x_batch = x[batch_idx]\n",
    "        embeddings = C[x_batch]\n",
    "        hidden_layer = torch.tanh(embeddings.view(-1,6) @ W1 + b1)\n",
    "        out_layer = hidden_layer @ W2 + b2\n",
    "        # loss\n",
    "        loss = F.cross_entropy(out_layer, y[batch_idx])\n",
    "        lr_i.append(exponents[i].item())\n",
    "        loss_i.append(loss.item())\n",
    "        # backward\n",
    "        for p in paramters:\n",
    "            p.grad = None\n",
    "        loss.backward()\n",
    "        for p in paramters:\n",
    "            #p.data += torch.tensor(-0.001)*p.grad\n",
    "            p.data += torch.tensor(-learning_rates[i])*p.grad\n",
    "\n",
    "def get_loss_full_dataset():\n",
    "    inputs = C[x].view(-1, 6)\n",
    "    # forward\n",
    "    hidden = torch.tanh(inputs @ W1 + b1)\n",
    "    out_layer = hidden @ W2 + b2\n",
    "    loss = F.cross_entropy(out_layer, y)\n",
    "    print(f'loss={loss.item()}')\n",
    "\n",
    "train_minibatches_varying_loss(10000)\n",
    "get_loss_full_dataset()\n"
   ]
  },
  {
   "cell_type": "code",
   "execution_count": 26,
   "metadata": {},
   "outputs": [
    {
     "data": {
      "text/plain": [
       "[<matplotlib.lines.Line2D at 0x22fec022220>]"
      ]
     },
     "execution_count": 26,
     "metadata": {},
     "output_type": "execute_result"
    },
    {
     "data": {
      "image/png": "[encoded data removed]",
      "text/plain": [
       "<Figure size 640x480 with 1 Axes>"
      ]
     },
     "metadata": {},
     "output_type": "display_data"
    }
   ],
   "source": [
    "plt.plot(lr_i, loss_i)"
   ]
  },
  {
   "cell_type": "markdown",
   "metadata": {},
   "source": [
    "From the plot above, we can see that 10**-1 is a good learning rate - learning rate above it makes the loss increase."
   ]
  },
  {
   "cell_type": "code",
   "execution_count": 16,
   "metadata": {},
   "outputs": [],
   "source": [
    "## Final training playground, prepared in more civilized manner\n",
    "from dataclasses import dataclass\n",
    "\n",
    "# Putting the parametrs back together again\n",
    "g = torch.Generator().manual_seed(2147483647)\n",
    "@dataclass\n",
    "class HyperParameters:\n",
    "    context_size: int = 3 # How many characters of context should NN get to make a prediction?\n",
    "    embedding_dims: int = 5 # How many dimensions embedding vector have?\n",
    "    hidden_layer_size: int = 250 # How many neurons in the hidden layer?\n",
    "\n",
    "class Parameters:\n",
    "    def __init__(self, g: torch.Generator, hyper_params: HyperParameters):\n",
    "        hidden_layer_inputs = hyper_params.context_size * hyper_params.embedding_dims\n",
    "        self.C = torch.randn((27, hyper_params.embedding_dims), generator=g, requires_grad=True)\n",
    "        self.W1 = torch.randn((hidden_layer_inputs, hyper_params.hidden_layer_size), generator=g, requires_grad=True) # hidden layer weigths\n",
    "        self.b1 = torch.randn((hyper_params.hidden_layer_size), generator=g, requires_grad=True) # hidden layer biases\n",
    "        self.W2 = torch.randn((hyper_params.hidden_layer_size, 27), generator=g, requires_grad=True) # out layer weigths\n",
    "        self.b2 = torch.randn((27), generator=g, requires_grad=True) # out layer biases\n",
    "    \n",
    "    def all(self):\n",
    "        return [self.C, self.W1, self.b1, self.W2, self.b2]\n",
    "    \n",
    "    def zero_grad(self):\n",
    "        for param in self.all():\n",
    "            param.grad = None\n",
    "    \n",
    "    def update(self, learning_rate):\n",
    "        for param in self.all():\n",
    "            param.data += -learning_rate * param.grad"
   ]
  },
  {
   "attachments": {},
   "cell_type": "markdown",
   "metadata": {},
   "source": [
    "## Technique \\#3 - split the training data\n",
    "Training split, dev/validation split, test split\n",
    "\n",
    "80%,10%,10%\n",
    "\n",
    "### When do we overfit? When do we underfit?\n",
    "Underfitting usually means that we get similar losses for validation set and training set. Once the loss for training set is significantly larger than for validation set, we might be overfitting."
   ]
  },
  {
   "cell_type": "code",
   "execution_count": 17,
   "metadata": {},
   "outputs": [
    {
     "name": "stdout",
     "output_type": "stream",
     "text": [
      "hyper_params=HyperParameters(context_size=4, embedding_dims=16, hidden_layer_size=512)\n",
      "params sizes=[torch.Size([27, 16]), torch.Size([64, 512]), torch.Size([512]), torch.Size([512, 27]), torch.Size([27])]\n"
     ]
    }
   ],
   "source": [
    "hyper_params = HyperParameters(context_size=4, embedding_dims=16, hidden_layer_size=512)\n",
    "params = Parameters(g, hyper_params)\n",
    "\n",
    "print(f'{hyper_params=}')\n",
    "print(f'params sizes={[param.shape for param in params.all()]}')"
   ]
  },
  {
   "cell_type": "code",
   "execution_count": 18,
   "metadata": {},
   "outputs": [],
   "source": [
    "import random\n",
    "random.shuffle(words)\n",
    "i_train = int(0.8 * len(words))\n",
    "i_val = int(0.9 * len(words))\n",
    "x_train, y_train = bulid_dataset(words[:i_train], context_size=hyper_params.context_size)\n",
    "x_val, y_val = bulid_dataset(words[i_train:i_val], context_size=hyper_params.context_size)\n",
    "x_test, y_test = bulid_dataset(words[i_val:], context_size=hyper_params.context_size)"
   ]
  },
  {
   "cell_type": "code",
   "execution_count": 19,
   "metadata": {},
   "outputs": [
    {
     "name": "stdout",
     "output_type": "stream",
     "text": [
      "iteration 10000, loss:5.614504814147949\n",
      "iteration 20000, loss:3.8663485050201416\n",
      "iteration 30000, loss:2.823031425476074\n",
      "iteration 40000, loss:2.5326180458068848\n",
      "iteration 50000, loss:2.9662351608276367\n",
      "iteration 60000, loss:2.2912585735321045\n",
      "iteration 70000, loss:2.604546546936035\n",
      "iteration 80000, loss:1.9322073459625244\n",
      "iteration 90000, loss:2.2138314247131348\n",
      "iteration 100000, loss:2.0195164680480957\n",
      "iteration 110000, loss:1.942169427871704\n",
      "iteration 120000, loss:2.102998733520508\n",
      "iteration 130000, loss:2.0979514122009277\n",
      "iteration 140000, loss:2.4411046504974365\n",
      "iteration 150000, loss:2.343611240386963\n",
      "iteration 160000, loss:1.9222575426101685\n",
      "iteration 170000, loss:2.3574917316436768\n",
      "iteration 180000, loss:2.2075936794281006\n",
      "iteration 190000, loss:2.287083864212036\n",
      "iteration 200000, loss:2.231369972229004\n",
      "iteration 210000, loss:2.354063034057617\n",
      "iteration 220000, loss:2.380524158477783\n",
      "iteration 230000, loss:2.0769686698913574\n",
      "iteration 240000, loss:2.1517324447631836\n",
      "iteration 250000, loss:2.2980401515960693\n",
      "iteration 260000, loss:2.5045852661132812\n",
      "iteration 270000, loss:2.5687508583068848\n",
      "iteration 280000, loss:2.1091227531433105\n",
      "iteration 290000, loss:2.5180492401123047\n",
      "iteration 300000, loss:2.207866907119751\n",
      "loss for validation set=2.2976255416870117\n"
     ]
    },
    {
     "data": {
      "image/png": "[encoded data removed]",
      "text/plain": [
       "<Figure size 640x480 with 1 Axes>"
      ]
     },
     "metadata": {},
     "output_type": "display_data"
    }
   ],
   "source": [
    "def get_loss(x_data, y_data, params, hyper_params):\n",
    "    # Forward\n",
    "    input_size = hyper_params.context_size * hyper_params.embedding_dims\n",
    "    embeddings = params.C[x_data].view((-1, input_size))\n",
    "    hidden = torch.tanh(embeddings @ params.W1 + params.b1)\n",
    "    out = hidden @ params.W2 + params.b2\n",
    "    # Calculate loss\n",
    "    return F.cross_entropy(out, y_data)\n",
    "\n",
    "def get_learning_rate(i):\n",
    "    return 0.1 if i < 50000 else 0.01 if i < 100000 else 0.001\n",
    "\n",
    "def train_final(iters: int, params: Parameters, hyper_params: HyperParameters, batch_size: int = 32):\n",
    "    plot_data = torch.zeros((iters, 2))\n",
    "    for i in range(iters):\n",
    "        # Prepare batch\n",
    "        batch_i = torch.randint(0, x_train.shape[0], (batch_size,))\n",
    "        x_batch = x_train[batch_i]\n",
    "        y_batch = y_train[batch_i]\n",
    "        loss = get_loss(x_batch, y_batch, params, hyper_params)\n",
    "        if (i+1) % 10000 == 0: print(f'iteration {i+1}/{iters}, loss:{loss.item()}')\n",
    "        plot_data[i] = torch.tensor([i, loss.item()])\n",
    "        params.zero_grad()\n",
    "        # Backward\n",
    "        loss.backward()\n",
    "        # Update\n",
    "        params.update(get_learning_rate(i))\n",
    "    return plot_data\n",
    "\n",
    "\n",
    "plot_data = train_final(300000, params=params, hyper_params=hyper_params, batch_size=32)\n",
    "plt.plot(plot_data[:, 0], plot_data[:, 1])\n",
    "\n",
    "loss_x_val = get_loss(x_val, y_val, params, hyper_params)\n",
    "print(f'loss for validation set={loss_x_val.item()}')\n"
   ]
  },
  {
   "cell_type": "code",
   "execution_count": 35,
   "metadata": {},
   "outputs": [
    {
     "name": "stdout",
     "output_type": "stream",
     "text": [
      "['salabia', 'yani', 'cniwa', 'katda', 'riza', 'reerlen', 'genovey', 'netitolasa', 'rurona', 'redlreelen']\n"
     ]
    }
   ],
   "source": [
    "def sample_network(iters: int, params: Parameters, hyper_params: HyperParameters):\n",
    "    words = []\n",
    "    for _ in range(iters):\n",
    "        context = [stoi['.']] * hyper_params.context_size\n",
    "        word = ''\n",
    "        while True:\n",
    "            # Forward\n",
    "            embeddings = params.C[torch.tensor([context])]\n",
    "            hidden = torch.tanh(embeddings.view(1, -1) @ params.W1 + params.b1)\n",
    "            out = hidden @ params.W2 + params.b2\n",
    "            probs = torch.softmax(out, dim=1)\n",
    "            # Sample with distribution from probs\n",
    "            sampled_idx = torch.multinomial(probs, num_samples=1, replacement=True).item()\n",
    "            if sampled_idx == 0: break\n",
    "            # Move the context window\n",
    "            context = context[1:] + [sampled_idx]\n",
    "            word += itos[int(sampled_idx)]\n",
    "        words.append(word)\n",
    "    return words\n",
    "\n",
    "\n",
    "samples = sample_network(10, params, hyper_params)\n",
    "print(samples)"
   ]
  }
 ],
 "metadata": {
  "kernelspec": {
   "display_name": ".venv",
   "language": "python",
   "name": "python3"
  },
  "language_info": {
   "codemirror_mode": {
    "name": "ipython",
    "version": 3
   },
   "file_extension": ".py",
   "mimetype": "text/x-python",
   "name": "python",
   "nbconvert_exporter": "python",
   "pygments_lexer": "ipython3",
   "version": "3.9.13"
  },
  "orig_nbformat": 4
 },
 "nbformat": 4,
 "nbformat_minor": 2
}
